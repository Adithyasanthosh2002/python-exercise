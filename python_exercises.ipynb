{
  "nbformat": 4,
  "nbformat_minor": 0,
  "metadata": {
    "colab": {
      "provenance": [],
      "authorship_tag": "ABX9TyOUM8ycIT/5qJ+Jwj/NKJPt",
      "include_colab_link": true
    },
    "kernelspec": {
      "name": "python3",
      "display_name": "Python 3"
    },
    "language_info": {
      "name": "python"
    }
  },
  "cells": [
    {
      "cell_type": "markdown",
      "metadata": {
        "id": "view-in-github",
        "colab_type": "text"
      },
      "source": [
        "<a href=\"https://colab.research.google.com/github/Adithyasanthosh2002/python-exercise/blob/main/python_exercises.ipynb\" target=\"_parent\"><img src=\"https://colab.research.google.com/assets/colab-badge.svg\" alt=\"Open In Colab\"/></a>"
      ]
    },
    {
      "cell_type": "code",
      "execution_count": 1,
      "metadata": {
        "colab": {
          "base_uri": "https://localhost:8080/"
        },
        "id": "MpLOqEPUeWmi",
        "outputId": "819bac36-e97e-4aef-a8c3-333604ce6796"
      },
      "outputs": [
        {
          "output_type": "stream",
          "name": "stdout",
          "text": [
            "hello , adithya\n"
          ]
        }
      ],
      "source": [
        "print(\"hello , adithya\")"
      ]
    },
    {
      "cell_type": "code",
      "source": [
        "print(\"hii , adithya\")\n",
        "# this is his name"
      ],
      "metadata": {
        "colab": {
          "base_uri": "https://localhost:8080/"
        },
        "id": "Jz6mqyk9eh6o",
        "outputId": "d18edcd9-4118-4800-a8fe-494f4ea04122"
      },
      "execution_count": 2,
      "outputs": [
        {
          "output_type": "stream",
          "name": "stdout",
          "text": [
            "hii , adithya\n"
          ]
        }
      ]
    },
    {
      "cell_type": "code",
      "source": [
        "x = \"5\"\n",
        "y = (\"adithya\")\n",
        "# this is adithya\n",
        "print(x)\n",
        "print(y)"
      ],
      "metadata": {
        "colab": {
          "base_uri": "https://localhost:8080/"
        },
        "id": "qWgoxJ2lewFh",
        "outputId": "99e7e8c2-2653-413b-e8a2-516f7089c431"
      },
      "execution_count": 4,
      "outputs": [
        {
          "output_type": "stream",
          "name": "stdout",
          "text": [
            "5\n",
            "adithya\n"
          ]
        }
      ]
    },
    {
      "cell_type": "code",
      "source": [],
      "metadata": {
        "id": "2Q4anNE2fLa_"
      },
      "execution_count": null,
      "outputs": []
    },
    {
      "cell_type": "code",
      "source": [
        "Name = \"adithya\"\n",
        "Adress = \" kollam \\nkerala\"\n",
        "print(Name)\n",
        "print(Adress)\n"
      ],
      "metadata": {
        "colab": {
          "base_uri": "https://localhost:8080/"
        },
        "id": "5_vyDoJAqM8q",
        "outputId": "fd5a7908-57da-488f-ca6d-d93d52d42905"
      },
      "execution_count": 7,
      "outputs": [
        {
          "output_type": "stream",
          "name": "stdout",
          "text": [
            "adithya\n",
            " kollam \n",
            "kerala\n"
          ]
        }
      ]
    },
    {
      "cell_type": "code",
      "source": [
        "name = input(\"enter your name \")\n",
        "age  = int(input(\"enter your age \"))\n",
        "print(name)\n",
        "print(age)\n",
        "type(age)"
      ],
      "metadata": {
        "colab": {
          "base_uri": "https://localhost:8080/"
        },
        "id": "QuKLnwbZsZgu",
        "outputId": "18313d88-225e-4a6b-fc8a-d6c31f469f91"
      },
      "execution_count": 17,
      "outputs": [
        {
          "output_type": "stream",
          "name": "stdout",
          "text": [
            "enter your name adithya\n",
            "enter your age 22\n",
            "adithya\n",
            "22\n"
          ]
        },
        {
          "output_type": "execute_result",
          "data": {
            "text/plain": [
              "int"
            ]
          },
          "metadata": {},
          "execution_count": 17
        }
      ]
    },
    {
      "cell_type": "code",
      "source": [
        "m1 = int(input(\"enter mark\"))\n",
        "m2 = int(input(\"enter mark\"))\n",
        "print(m1)\n",
        "print(m2)\n",
        "#print(m1>m2)\n",
        "if(m1>m2):\n",
        "  print(\"m1 has higher mark\",)\n",
        "else:\n",
        "  print(\"m2 has higher mark\",)\n"
      ],
      "metadata": {
        "colab": {
          "base_uri": "https://localhost:8080/"
        },
        "id": "h5oHMTDUvGTu",
        "outputId": "b5212ada-f153-48c0-afca-4deeabe856de"
      },
      "execution_count": 24,
      "outputs": [
        {
          "output_type": "stream",
          "name": "stdout",
          "text": [
            "enter mark22\n",
            "enter mark33\n",
            "22\n",
            "33\n",
            "m2 has higher mark\n"
          ]
        }
      ]
    },
    {
      "cell_type": "code",
      "source": [
        "n1 = int(input(\"enter number\"))\n",
        "n2 = int(input(\"enter number\"))\n",
        "sum = n1+n2\n",
        "print(\"sum of numbers\",n1,\"and\",n2,\"=\",sum)\n",
        "print(n1+n2)"
      ],
      "metadata": {
        "colab": {
          "base_uri": "https://localhost:8080/"
        },
        "id": "_ccME7L2u6Tz",
        "outputId": "2c9a3089-c260-4d56-e9cd-75146dcf75eb"
      },
      "execution_count": 26,
      "outputs": [
        {
          "output_type": "stream",
          "name": "stdout",
          "text": [
            "enter number22\n",
            "enter number45\n",
            "sum of numbers 22 and 45 = 67\n",
            "67\n"
          ]
        }
      ]
    },
    {
      "cell_type": "code",
      "source": [
        "sum(n1,n2)"
      ],
      "metadata": {
        "colab": {
          "base_uri": "https://localhost:8080/",
          "height": 139
        },
        "id": "8gFGjF4HzB6u",
        "outputId": "58e8ff3a-64a2-40ac-853a-9e537f2c2708"
      },
      "execution_count": 27,
      "outputs": [
        {
          "output_type": "error",
          "ename": "TypeError",
          "evalue": "'int' object is not callable",
          "traceback": [
            "\u001b[0;31m---------------------------------------------------------------------------\u001b[0m",
            "\u001b[0;31mTypeError\u001b[0m                                 Traceback (most recent call last)",
            "\u001b[0;32m<ipython-input-27-c2bf6c7e9ffe>\u001b[0m in \u001b[0;36m<cell line: 1>\u001b[0;34m()\u001b[0m\n\u001b[0;32m----> 1\u001b[0;31m \u001b[0msum\u001b[0m\u001b[0;34m(\u001b[0m\u001b[0mn1\u001b[0m\u001b[0;34m,\u001b[0m\u001b[0mn2\u001b[0m\u001b[0;34m)\u001b[0m\u001b[0;34m\u001b[0m\u001b[0;34m\u001b[0m\u001b[0m\n\u001b[0m",
            "\u001b[0;31mTypeError\u001b[0m: 'int' object is not callable"
          ]
        }
      ]
    },
    {
      "cell_type": "code",
      "source": [
        "adithya = int(input(\"enter your weight\"))\n",
        "arun = int(input(\"enter your weight\"))\n",
        "print(adithya)\n",
        "print(arun)\n",
        "if(adithya>arun):\n",
        "  print('adithya has higher weight')\n",
        "else:\n",
        "  print('arun has higher weight')"
      ],
      "metadata": {
        "colab": {
          "base_uri": "https://localhost:8080/"
        },
        "id": "DaT_g86TBcZl",
        "outputId": "962f2519-0600-4bfd-bb03-5bf943954459"
      },
      "execution_count": 2,
      "outputs": [
        {
          "output_type": "stream",
          "name": "stdout",
          "text": [
            "enter your weight74\n",
            "enter your weight70\n",
            "74\n",
            "70\n",
            "adithya has higher weight\n"
          ]
        }
      ]
    }
  ]
}