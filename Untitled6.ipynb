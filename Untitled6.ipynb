{
  "nbformat": 4,
  "nbformat_minor": 0,
  "metadata": {
    "colab": {
      "provenance": [],
      "authorship_tag": "ABX9TyMmA0c4lxJZkfYITFAn4YFx",
      "include_colab_link": true
    },
    "kernelspec": {
      "name": "python3",
      "display_name": "Python 3"
    },
    "language_info": {
      "name": "python"
    }
  },
  "cells": [
    {
      "cell_type": "markdown",
      "metadata": {
        "id": "view-in-github",
        "colab_type": "text"
      },
      "source": [
        "<a href=\"https://colab.research.google.com/github/Adithyasanthosh2002/python-exercise/blob/main/Untitled6.ipynb\" target=\"_parent\"><img src=\"https://colab.research.google.com/assets/colab-badge.svg\" alt=\"Open In Colab\"/></a>"
      ]
    },
    {
      "cell_type": "code",
      "execution_count": 17,
      "metadata": {
        "colab": {
          "base_uri": "https://localhost:8080/"
        },
        "id": "o8qcw3eFkZpG",
        "outputId": "0c21580f-3782-4c60-9f75-97f33f4ed400"
      },
      "outputs": [
        {
          "output_type": "stream",
          "name": "stdout",
          "text": [
            "(2, 8)\n"
          ]
        }
      ],
      "source": [
        "def count_case(s):\n",
        "    upper = sum(1 for char in s if char.isupper())\n",
        "    lower = sum(1 for char in s if char.islower())\n",
        "    return upper, lower\n",
        "\n",
        "# Example\n",
        "s = \"Hello@World!\"\n",
        "print(count_case(s))\n"
      ]
    },
    {
      "cell_type": "code",
      "source": [
        "def in_range(num, low, high):\n",
        "    return low <= num <= high\n",
        "\n",
        "# Example\n",
        "print(in_range(5, 1, 10))\n",
        "print(in_range(15, 1, 10))"
      ],
      "metadata": {
        "colab": {
          "base_uri": "https://localhost:8080/"
        },
        "id": "yLFM2T2ukvAO",
        "outputId": "80d01871-f14a-4008-d74a-28af498c4017"
      },
      "execution_count": 18,
      "outputs": [
        {
          "output_type": "stream",
          "name": "stdout",
          "text": [
            "True\n",
            "False\n"
          ]
        }
      ]
    },
    {
      "cell_type": "code",
      "source": [
        "def pattern_exists(string, pattern):\n",
        "    return pattern in string\n",
        "\n",
        "# Example\n",
        "print(pattern_exists(\"hello world\", \"world\"))\n",
        "print(pattern_exists(\"hello world\", \"planet\"))\n"
      ],
      "metadata": {
        "colab": {
          "base_uri": "https://localhost:8080/"
        },
        "id": "L_bPSxIRp1_A",
        "outputId": "e6e46936-e66f-4ff2-ea12-946a1ad961c4"
      },
      "execution_count": 16,
      "outputs": [
        {
          "output_type": "stream",
          "name": "stdout",
          "text": [
            "True\n",
            "False\n"
          ]
        }
      ]
    },
    {
      "cell_type": "code",
      "source": [
        "def factorial(n):\n",
        "    if n == 0 or n == 1:\n",
        "        return 1\n",
        "    return n * factorial(n - 1)\n",
        "\n",
        "# Example\n",
        "print(factorial(5))\n"
      ],
      "metadata": {
        "colab": {
          "base_uri": "https://localhost:8080/"
        },
        "id": "UMwHpsbnqvm5",
        "outputId": "10071397-d673-48e6-aa62-90030805a538"
      },
      "execution_count": 19,
      "outputs": [
        {
          "output_type": "stream",
          "name": "stdout",
          "text": [
            "120\n"
          ]
        }
      ]
    },
    {
      "cell_type": "code",
      "source": [
        "def calculator(num1, num2, operation):\n",
        "    if operation == '+':\n",
        "        return num1 + num2\n",
        "    elif operation == '-':\n",
        "        return num1 - num2\n",
        "    elif operation == '*':\n",
        "        return num1 * num2\n",
        "    elif operation == '/':\n",
        "        return num1 / num2\n",
        "    elif operation == '%':\n",
        "        return num1 % num2\n",
        "    elif operation == '//':\n",
        "        return num1 // num2\n",
        "    else:\n",
        "        return \"Invalid operation\"\n",
        "\n",
        "# Example\n",
        "print(calculator(10, 5, '+'))\n"
      ],
      "metadata": {
        "colab": {
          "base_uri": "https://localhost:8080/"
        },
        "id": "DqSyOD9Fq0bF",
        "outputId": "3afbac2f-1a78-48c7-897c-6ad107eb6937"
      },
      "execution_count": 20,
      "outputs": [
        {
          "output_type": "stream",
          "name": "stdout",
          "text": [
            "15\n"
          ]
        }
      ]
    },
    {
      "cell_type": "code",
      "source": [
        "import math\n",
        "\n",
        "def triangle_area(a, b, c):\n",
        "    s = (a + b + c) / 2\n",
        "    return math.sqrt(s * (s - a) * (s - b) * (s - c))\n",
        "\n",
        "# Example\n",
        "print(triangle_area(3, 4, 5))\n"
      ],
      "metadata": {
        "colab": {
          "base_uri": "https://localhost:8080/"
        },
        "id": "8jol5ehnq_hI",
        "outputId": "6e75c9b5-d20f-4c4f-9bb3-619cff50f706"
      },
      "execution_count": 21,
      "outputs": [
        {
          "output_type": "stream",
          "name": "stdout",
          "text": [
            "6.0\n"
          ]
        }
      ]
    },
    {
      "cell_type": "code",
      "source": [
        "def is_right_triangle(a, b, c):\n",
        "    sides = sorted([a, b, c])\n",
        "    return sides[0]**2 + sides[1]**2 == sides[2]**2\n",
        "\n",
        "# Example\n",
        "print(is_right_triangle(3, 4, 5))\n"
      ],
      "metadata": {
        "colab": {
          "base_uri": "https://localhost:8080/"
        },
        "id": "vG6qbygsrFuA",
        "outputId": "20d40a34-3718-486d-f748-22d34eb05dd5"
      },
      "execution_count": 22,
      "outputs": [
        {
          "output_type": "stream",
          "name": "stdout",
          "text": [
            "True\n"
          ]
        }
      ]
    },
    {
      "cell_type": "code",
      "source": [
        "def reverse_number(n):\n",
        "    rev = 0\n",
        "    while n > 0:\n",
        "        rev = rev * 10 + n % 10\n",
        "        n //= 10\n",
        "    return rev\n",
        "\n",
        "# Example\n",
        "print(reverse_number(1234))\n"
      ],
      "metadata": {
        "colab": {
          "base_uri": "https://localhost:8080/"
        },
        "id": "Y7Nj_RyVrKCw",
        "outputId": "a9cd8032-050b-4cc9-b78d-395b69f5a843"
      },
      "execution_count": 23,
      "outputs": [
        {
          "output_type": "stream",
          "name": "stdout",
          "text": [
            "4321\n"
          ]
        }
      ]
    },
    {
      "cell_type": "code",
      "source": [
        "def is_palindrome_of_other(s1, s2):\n",
        "    return s1 == s2[::-1]\n",
        "\n",
        "# Example\n",
        "print(is_palindrome_of_other(\"madam\", \"madam\"))\n",
        "print(is_palindrome_of_other(\"hello\", \"olleh\"))\n"
      ],
      "metadata": {
        "colab": {
          "base_uri": "https://localhost:8080/"
        },
        "id": "EwzT4dcLrPiY",
        "outputId": "b1e15b19-89bf-451b-d594-64b50bdca23a"
      },
      "execution_count": 24,
      "outputs": [
        {
          "output_type": "stream",
          "name": "stdout",
          "text": [
            "True\n",
            "True\n"
          ]
        }
      ]
    },
    {
      "cell_type": "code",
      "source": [
        "def average(nums):\n",
        "    return sum(nums) / len(nums) if nums else 0\n",
        "\n",
        "# Example\n",
        "print(average([1, 2, 3, 4, 5]))\n"
      ],
      "metadata": {
        "colab": {
          "base_uri": "https://localhost:8080/"
        },
        "id": "yLGJp-D6rVt3",
        "outputId": "11045bd2-37b3-4e28-f7a7-ebe6cb4162f4"
      },
      "execution_count": 25,
      "outputs": [
        {
          "output_type": "stream",
          "name": "stdout",
          "text": [
            "3.0\n"
          ]
        }
      ]
    },
    {
      "cell_type": "code",
      "source": [
        "def combine_dicts(dict_list):\n",
        "    result = {}\n",
        "    for d in dict_list:\n",
        "        if d['item'] in result:\n",
        "            result[d['item']] += d['amount']\n",
        "        else:\n",
        "            result[d['item']] = d['amount']\n",
        "    return result\n",
        "\n",
        "# Example\n",
        "data = [{'item': 'item1', 'amount': 400}, {'item': 'item2', 'amount': 300}, {'item': 'item1', 'amount': 750}]\n",
        "print(combine_dicts(data))\n"
      ],
      "metadata": {
        "colab": {
          "base_uri": "https://localhost:8080/"
        },
        "id": "gYibdc4_rZ61",
        "outputId": "bfad310b-0ac0-4e79-a98c-252a1603c9fa"
      },
      "execution_count": 26,
      "outputs": [
        {
          "output_type": "stream",
          "name": "stdout",
          "text": [
            "{'item1': 1150, 'item2': 300}\n"
          ]
        }
      ]
    }
  ]
}